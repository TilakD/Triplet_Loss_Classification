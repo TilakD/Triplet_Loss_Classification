{
 "cells": [
  {
   "cell_type": "code",
   "execution_count": 1,
   "metadata": {},
   "outputs": [],
   "source": [
    "import os\n",
    "os.environ[\"CUDA_VISIBLE_DEVICES\"] = \"2,3\"\n",
    "import pandas as pd\n",
    "import numpy as np\n",
    "import pickle"
   ]
  },
  {
   "cell_type": "code",
   "execution_count": 2,
   "metadata": {},
   "outputs": [],
   "source": [
    "def mean_shift(p1_embeddings_path, p2_embeddings_path, save_path):\n",
    "    \n",
    "    with open(p2_embeddings_path,'rb') as f:\n",
    "        p2 = pickle.load(f)\n",
    "        \n",
    "    with open(p1_embeddings_path,'rb') as f:\n",
    "        p1 = pickle.load(f)\n",
    "    \n",
    "    translation_vector = p2.mean(axis=0) - p1.mean(axis=0)\n",
    "    \n",
    "    new_p2 = p1 + translation_vector\n",
    "    \n",
    "    with open(save_path,'wb') as f:\n",
    "        pickle.dump(new_p2, f)\n",
    "        \n",
    "    return new_p2"
   ]
  },
  {
   "cell_type": "code",
   "execution_count": 101,
   "metadata": {},
   "outputs": [
    {
     "data": {
      "text/plain": [
       "array([[ 0.02945705, -0.0136211 , -0.00314285, ..., -0.03445551,\n",
       "        -0.0252216 , -0.03226232],\n",
       "       [ 0.02927005, -0.0138401 , -0.00274885, ..., -0.03477851,\n",
       "        -0.0251906 , -0.03216632],\n",
       "       [ 0.03351605, -0.0137591 , -0.00258185, ..., -0.03588551,\n",
       "        -0.0250366 , -0.03071332],\n",
       "       ...,\n",
       "       [ 0.03348305, -0.0138161 , -0.00255485, ..., -0.03557651,\n",
       "        -0.0246946 , -0.03067432],\n",
       "       [ 0.03161005, -0.0124991 , -0.00310585, ..., -0.03736551,\n",
       "        -0.0243986 , -0.03160332],\n",
       "       [ 0.02909205, -0.0135961 , -0.00312485, ..., -0.03433151,\n",
       "        -0.0254456 , -0.03234332]])"
      ]
     },
     "execution_count": 101,
     "metadata": {},
     "output_type": "execute_result"
    }
   ],
   "source": [
    "class_name= \"Pose1\"\n",
    "old_people_embedding = \"old_people_embeddings/\" + class_name + \".pkl\"\n",
    "new_people_embedding = \"new_person_embeddings/\" + class_name + \".pkl\"\n",
    "save_path =\"translated_embeddings/\" + class_name + \".pkl\"\n",
    "mean_shift(old_people_embedding, new_people_embedding, save_path)"
   ]
  },
  {
   "cell_type": "code",
   "execution_count": 21,
   "metadata": {},
   "outputs": [],
   "source": [
    "import model.create_dataset as create_dataset\n",
    "from model.utils import Params\n",
    "from model.model_fn import model_fn\n",
    "import tensorflow as tf"
   ]
  },
  {
   "cell_type": "code",
   "execution_count": 22,
   "metadata": {},
   "outputs": [],
   "source": [
    "def _get_embeddings(filename, estimator, params):\n",
    "        \n",
    "    # Compute embeddings for an image file\n",
    "    tf.logging.info(\"Predicting on \"+filename)\n",
    "\n",
    "    predictions = estimator.predict(lambda: _get_dataset(filename, params))\n",
    "\n",
    "    embeddings = np.zeros((1, params.embedding_size))\n",
    "    for i, p in enumerate(predictions):\n",
    "        embeddings[i] = p['embeddings']\n",
    "\n",
    "    tf.logging.info(\"Image embedding shape: {}\".format(embeddings.shape))\n",
    "\n",
    "    return embeddings"
   ]
  },
  {
   "cell_type": "code",
   "execution_count": 23,
   "metadata": {},
   "outputs": [],
   "source": [
    "def _get_dataset(filename, params):\n",
    "\n",
    "    # A tensor of only one filename\n",
    "    filename_tensor = tf.constant([filename])\n",
    "\n",
    "    # Load necessary params from config file\n",
    "    image_size = params.image_size\n",
    "    channels = 3 if params.rgb else 1\n",
    "\n",
    "    # Create dataset\n",
    "    dataset = tf.data.Dataset.from_tensor_slices(filename_tensor)\n",
    "    dataset = dataset.map(lambda filename: _parse_function(filename, image_size, channels))\n",
    "    dataset = dataset.batch(1)\n",
    "\n",
    "    return dataset"
   ]
  },
  {
   "cell_type": "code",
   "execution_count": 24,
   "metadata": {},
   "outputs": [],
   "source": [
    "def _parse_function(filename, image_size, channels):\n",
    "    # Read an image from a file\n",
    "    # Decode it into a dense vector\n",
    "    # Resize it to fixed shape\n",
    "    # Reshape it to 1 dimensional tensor\n",
    "    # Normalize it from [0, 255] to [0.0, 1.0]\n",
    "    image_string = tf.read_file(filename)\n",
    "    image_decoded = tf.image.decode_jpeg(image_string, channels=channels)\n",
    "    image_resized = tf.image.resize_images(image_decoded, [image_size, image_size])\n",
    "    features = tf.reshape(image_resized, [image_size*image_size*channels])\n",
    "    features_normalized = features / 255.0\n",
    "    return features_normalized"
   ]
  },
  {
   "cell_type": "code",
   "execution_count": null,
   "metadata": {},
   "outputs": [],
   "source": []
  },
  {
   "cell_type": "code",
   "execution_count": null,
   "metadata": {},
   "outputs": [],
   "source": []
  },
  {
   "cell_type": "code",
   "execution_count": null,
   "metadata": {},
   "outputs": [],
   "source": [
    "model_dir = \"experiments/p1_training\"\n",
    "\n",
    "filename = \"New_Pose1/1495.png\"\n",
    "\n",
    "json_path = os.path.join(model_dir, 'params.json')\n",
    "\n",
    "params = Params(json_path)\n",
    "\n",
    "tf.reset_default_graph()\n",
    "\n",
    "config = tf.estimator.RunConfig(tf_random_seed=230,\n",
    "                                    model_dir=model_dir,\n",
    "                                    save_summary_steps=params.save_summary_steps)\n",
    "\n",
    "estimator = tf.estimator.Estimator(model_fn, params=params, config=config)\n",
    "\n",
    "embeddings = _get_embeddings(filename, estimator, params)"
   ]
  },
  {
   "cell_type": "code",
   "execution_count": 26,
   "metadata": {},
   "outputs": [],
   "source": [
    "def closest_point(embedding, dictionary):\n",
    "    shortest_dist = 1000000\n",
    "    for label,matrix in dictionary.items():\n",
    "        for i in matrix:\n",
    "            dist = find_euclidean_distance (embedding,i)\n",
    "            if (dist < shortest_dist):\n",
    "                shortest_dist = dist\n",
    "                index = label\n",
    "    return shortest_dist, index"
   ]
  },
  {
   "cell_type": "code",
   "execution_count": 27,
   "metadata": {},
   "outputs": [],
   "source": [
    "def find_euclidean_distance (A,B):\n",
    "    return np.sqrt(np.sum(np.square(A-B)))"
   ]
  },
  {
   "cell_type": "code",
   "execution_count": 31,
   "metadata": {},
   "outputs": [],
   "source": [
    "with open(\"translated_embeddings/Pose1.pkl\", \"rb\") as handle:\n",
    "    Pose1 = pickle.load(handle)\n",
    "    \n",
    "with open(\"translated_embeddings/Pose2.pkl\", \"rb\") as handle:\n",
    "    Pose2 = pickle.load(handle)\n",
    "    \n",
    "with open(\"translated_embeddings/Pose3.pkl\", \"rb\") as handle:\n",
    "    Pose3 = pickle.load(handle)\n",
    "    \n",
    "with open(\"translated_embeddings/Pose4.pkl\", \"rb\") as handle:\n",
    "    Pose4 = pickle.load(handle)\n",
    "    \n",
    "with open(\"translated_embeddings/Pose5.pkl\", \"rb\") as handle:\n",
    "    Pose5 = pickle.load(handle)\n",
    "    \n",
    "with open(\"translated_embeddings/Pose6.pkl\", \"rb\") as handle:\n",
    "    Pose6 = pickle.load(handle)\n",
    "    \n",
    "dict_data = {\"Pose1\":Pose1, \"Pose2\": Pose1,\"Pose3\":Pose1, \n",
    "             \"Pose4\": Pose1, \"Pose5\":Pose1, \"Pose6\":Pose1 }\n"
   ]
  },
  {
   "cell_type": "code",
   "execution_count": null,
   "metadata": {},
   "outputs": [],
   "source": []
  },
  {
   "cell_type": "code",
   "execution_count": null,
   "metadata": {},
   "outputs": [],
   "source": [
    "closest_point(embeddings,dict_data)"
   ]
  },
  {
   "cell_type": "code",
   "execution_count": 32,
   "metadata": {},
   "outputs": [
    {
     "data": {
      "text/plain": [
       "(99, 64)"
      ]
     },
     "execution_count": 32,
     "metadata": {},
     "output_type": "execute_result"
    }
   ],
   "source": [
    "dict_data[\"Pose1\"].shape"
   ]
  },
  {
   "cell_type": "code",
   "execution_count": 7,
   "metadata": {},
   "outputs": [],
   "source": [
    "from sklearn.manifold import TSNE\n",
    "import matplotlib.pyplot as plt"
   ]
  },
  {
   "cell_type": "code",
   "execution_count": 59,
   "metadata": {},
   "outputs": [],
   "source": [
    "matrix = np.vstack([Pose1, Pose2, Pose3, Pose4, Pose5, Pose6])\n",
    "embeggings_lower = TSNE(n_components=2).fit_transform(matrix)\n",
    "Embedding_data_frame = pd.DataFrame(embeggings_lower)"
   ]
  },
  {
   "cell_type": "code",
   "execution_count": 32,
   "metadata": {},
   "outputs": [],
   "source": [
    "Pose1_df = pd.DataFrame(Pose1)\n",
    "Pose1_df[\"label\"] = \"Pose1\"\n",
    "\n",
    "Pose2_df = pd.DataFrame(Pose2)\n",
    "Pose2_df[\"label\"] = \"Pose2\"\n",
    "\n",
    "Pose3_df = pd.DataFrame(Pose3)\n",
    "Pose3_df[\"label\"] = \"Pose3\"\n",
    "\n",
    "Pose4_df = pd.DataFrame(Pose4)\n",
    "Pose4_df[\"label\"] = \"Pose4\"\n",
    "\n",
    "Pose5_df = pd.DataFrame(Pose5)\n",
    "Pose5_df[\"label\"] = \"Pose5\"\n",
    "\n",
    "Pose6_df = pd.DataFrame(Pose6)\n",
    "Pose6_df[\"label\"] = \"Pose6\"\n",
    "\n",
    "A = pd.concat([Pose1_df, Pose2_df, Pose3_df, Pose4_df, Pose5_df, Pose6_df ])"
   ]
  },
  {
   "cell_type": "code",
   "execution_count": null,
   "metadata": {},
   "outputs": [],
   "source": []
  },
  {
   "cell_type": "code",
   "execution_count": 35,
   "metadata": {},
   "outputs": [],
   "source": [
    "embeggings_lower = TSNE(n_components=2).fit_transform(A.drop(\"label\",axis=1))"
   ]
  },
  {
   "cell_type": "code",
   "execution_count": 52,
   "metadata": {},
   "outputs": [],
   "source": [
    "embeddings_Pose1 = embeggings_lower[A[\"label\"]==\"Pose1\"]"
   ]
  },
  {
   "cell_type": "code",
   "execution_count": 53,
   "metadata": {},
   "outputs": [
    {
     "data": {
      "text/plain": [
       "(101, 2)"
      ]
     },
     "execution_count": 53,
     "metadata": {},
     "output_type": "execute_result"
    }
   ],
   "source": [
    "embeddings_Pose1.shape"
   ]
  },
  {
   "cell_type": "code",
   "execution_count": 54,
   "metadata": {},
   "outputs": [
    {
     "data": {
      "text/plain": [
       "<matplotlib.collections.PathCollection at 0x7f21a9a61390>"
      ]
     },
     "execution_count": 54,
     "metadata": {},
     "output_type": "execute_result"
    },
    {
     "data": {
      "image/png": "[encoded data removed]",
      "text/plain": [
       "<Figure size 432x288 with 1 Axes>"
      ]
     },
     "metadata": {
      "needs_background": "light"
     },
     "output_type": "display_data"
    }
   ],
   "source": [
    "plt.scatter(embeddings_Pose1[:,0], embeddings_Pose1[:,1])"
   ]
  },
  {
   "cell_type": "code",
   "execution_count": 55,
   "metadata": {},
   "outputs": [
    {
     "data": {
      "text/plain": [
       "<matplotlib.collections.PathCollection at 0x7f6efd8dd438>"
      ]
     },
     "execution_count": 55,
     "metadata": {},
     "output_type": "execute_result"
    },
    {
     "data": {
      "image/png": "[encoded data removed]",
      "text/plain": [
       "<Figure size 432x288 with 1 Axes>"
      ]
     },
     "metadata": {
      "needs_background": "light"
     },
     "output_type": "display_data"
    }
   ],
   "source": [
    "plt.scatter(embeggings_lower[:,0], embeggings_lower[:,1])"
   ]
  },
  {
   "cell_type": "code",
   "execution_count": null,
   "metadata": {},
   "outputs": [],
   "source": []
  },
  {
   "cell_type": "code",
   "execution_count": 122,
   "metadata": {},
   "outputs": [],
   "source": [
    "embeddings_dir = \"base_model_v3_batchall_nounknown/landmarks/\"\n",
    "with open(os.path.join(embeddings_dir, 'embeddings_new_p1.txt'), 'w') as f:\n",
    "    f.write('label\\tfilename\\tembeddings\\n')\n",
    "    for i in range(len(A)):\n",
    "        emb = A.iloc[i,:-1]\n",
    "        filename = i\n",
    "        label = A[\"label\"].iloc[i]\n",
    "        f.write(\"%s\\t%s\\t%s\\n\" %(label, filename, ','.join(map(str,emb))))"
   ]
  },
  {
   "cell_type": "code",
   "execution_count": null,
   "metadata": {},
   "outputs": [],
   "source": []
  }
 ],
 "metadata": {
  "kernelspec": {
   "display_name": "Python 3",
   "language": "python",
   "name": "python3"
  },
  "language_info": {
   "codemirror_mode": {
    "name": "ipython",
    "version": 3
   },
   "file_extension": ".py",
   "mimetype": "text/x-python",
   "name": "python",
   "nbconvert_exporter": "python",
   "pygments_lexer": "ipython3",
   "version": "3.6.5"
  }
 },
 "nbformat": 4,
 "nbformat_minor": 2
}
